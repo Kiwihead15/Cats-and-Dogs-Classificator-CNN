{
  "cells": [
    {
      "cell_type": "markdown",
      "metadata": {
        "id": "view-in-github",
        "colab_type": "text"
      },
      "source": [
        "<a href=\"https://colab.research.google.com/github/Kiwihead15/FCC-Works/blob/main/My_fcc_book_recommendation_knn.ipynb\" target=\"_parent\"><img src=\"https://colab.research.google.com/assets/colab-badge.svg\" alt=\"Open In Colab\"/></a>"
      ]
    },
    {
      "cell_type": "markdown",
      "metadata": {
        "id": "uGd4NYQX1Rf_"
      },
      "source": [
        "*Note: You are currently reading this using Google Colaboratory which is a cloud-hosted version of Jupyter Notebook. This is a document containing both text cells for documentation and runnable code cells. If you are unfamiliar with Jupyter Notebook, watch this 3-minute introduction before starting this challenge: https://www.youtube.com/watch?v=inN8seMm7UI*\n",
        "\n",
        "---\n",
        "\n",
        "In this challenge, you will create a book recommendation algorithm using **K-Nearest Neighbors**.\n",
        "\n",
        "You will use the [Book-Crossings dataset](http://www2.informatik.uni-freiburg.de/~cziegler/BX/). This dataset contains 1.1 million ratings (scale of 1-10) of 270,000 books by 90,000 users. \n",
        "\n",
        "After importing and cleaning the data, use `NearestNeighbors` from `sklearn.neighbors` to develop a model that shows books that are similar to a given book. The Nearest Neighbors algorithm measures distance to determine the “closeness” of instances.\n",
        "\n",
        "Create a function named `get_recommends` that takes a book title (from the dataset) as an argument and returns a list of 5 similar books with their distances from the book argument.\n",
        "\n",
        "This code:\n",
        "\n",
        "`get_recommends(\"The Queen of the Damned (Vampire Chronicles (Paperback))\")`\n",
        "\n",
        "should return:\n",
        "\n",
        "```\n",
        "[\n",
        "  'The Queen of the Damned (Vampire Chronicles (Paperback))',\n",
        "  [\n",
        "    ['Catch 22', 0.793983519077301], \n",
        "    ['The Witching Hour (Lives of the Mayfair Witches)', 0.7448656558990479], \n",
        "    ['Interview with the Vampire', 0.7345068454742432],\n",
        "    ['The Tale of the Body Thief (Vampire Chronicles (Paperback))', 0.5376338362693787],\n",
        "    ['The Vampire Lestat (Vampire Chronicles, Book II)', 0.5178412199020386]\n",
        "  ]\n",
        "]\n",
        "```\n",
        "\n",
        "Notice that the data returned from `get_recommends()` is a list. The first element in the list is the book title passed in to the function. The second element in the list is a list of five more lists. Each of the five lists contains a recommended book and the distance from the recommended book to the book passed in to the function.\n",
        "\n",
        "If you graph the dataset (optional), you will notice that most books are not rated frequently. To ensure statistical significance, remove from the dataset users with less than 200 ratings and books with less than 100 ratings.\n",
        "\n",
        "The first three cells import libraries you may need and the data to use. The final cell is for testing. Write all your code in between those cells."
      ]
    },
    {
      "cell_type": "code",
      "execution_count": null,
      "metadata": {
        "id": "Y1onB6kUvo4Z"
      },
      "outputs": [],
      "source": [
        "# import libraries (you may add additional imports but you may not have to)\n",
        "import numpy as np\n",
        "import pandas as pd\n",
        "from scipy.sparse import csr_matrix\n",
        "from sklearn.neighbors import NearestNeighbors\n",
        "import matplotlib.pyplot as plt"
      ]
    },
    {
      "cell_type": "code",
      "execution_count": null,
      "metadata": {
        "id": "iAQGqqO_vo4d"
      },
      "outputs": [],
      "source": [
        "# get data files\n",
        "!wget https://cdn.freecodecamp.org/project-data/books/book-crossings.zip\n",
        "\n",
        "!unzip book-crossings.zip\n",
        "\n",
        "books_filename = 'BX-Books.csv'\n",
        "ratings_filename = 'BX-Book-Ratings.csv'"
      ]
    },
    {
      "cell_type": "code",
      "execution_count": null,
      "metadata": {
        "id": "NClILWOiEd6Q"
      },
      "outputs": [],
      "source": [
        "# import csv data into dataframes\n",
        "df_books = pd.read_csv(\n",
        "    books_filename,\n",
        "    encoding = \"ISO-8859-1\",\n",
        "    sep=\";\",\n",
        "    header=0,\n",
        "    names=['isbn', 'title', 'author'],\n",
        "    usecols=['isbn', 'title', 'author'],\n",
        "    dtype={'isbn': 'str', 'title': 'str', 'author': 'str'})\n",
        "\n",
        "df_ratings = pd.read_csv(\n",
        "    ratings_filename,\n",
        "    encoding = \"ISO-8859-1\",\n",
        "    sep=\";\",\n",
        "    header=0,\n",
        "    names=['user', 'isbn', 'rating'],\n",
        "    usecols=['user', 'isbn', 'rating'],\n",
        "    dtype={'user': 'int32', 'isbn': 'str', 'rating': 'float32'})"
      ]
    },
    {
      "cell_type": "code",
      "execution_count": null,
      "metadata": {
        "id": "xAcXjkCFCh0A"
      },
      "outputs": [],
      "source": [
        "# add your code here - consider creating a new cell for each section of code\n"
      ]
    },
    {
      "cell_type": "markdown",
      "source": [
        "###DataFrame of books info and look"
      ],
      "metadata": {
        "id": "4xckV3CrfBqz"
      }
    },
    {
      "cell_type": "code",
      "source": [
        "df_books.info()\n",
        "df_books\n"
      ],
      "metadata": {
        "id": "1uypnyJ7e52C"
      },
      "execution_count": null,
      "outputs": []
    },
    {
      "cell_type": "markdown",
      "source": [
        "###DataFrame of users info and look"
      ],
      "metadata": {
        "id": "kj6vyK2XgEzu"
      }
    },
    {
      "cell_type": "code",
      "source": [
        "df_ratings.info()\n",
        "df_ratings"
      ],
      "metadata": {
        "id": "LRPzD3kijThB"
      },
      "execution_count": null,
      "outputs": []
    },
    {
      "cell_type": "markdown",
      "source": [
        "###Plotting rows per user, and rows per isbn. It seems that most of users don´t rating the books, also most books have very few ratings."
      ],
      "metadata": {
        "id": "5K0k2rec0Phr"
      }
    },
    {
      "cell_type": "code",
      "source": [
        "fig,axs = plt.subplots(1,2,figsize = (10,5))\n",
        "axs[0].set(xlabel = 'isbn')\n",
        "df_ratings.isbn.value_counts().plot(use_index = False, xticks = [], ylabel = 'rows', ax = axs[0])\n",
        "axs[1].set(xlabel = 'user')\n",
        "df_ratings.user.value_counts().plot(use_index = False, xticks = [], ax = axs[1])"
      ],
      "metadata": {
        "id": "aOVlBmPd0ASd"
      },
      "execution_count": null,
      "outputs": []
    },
    {
      "cell_type": "markdown",
      "source": [
        "##Let´s remove users with less than 200 ratings and books with less than a 100 ratings"
      ],
      "metadata": {
        "id": "uwRgaskf_J14"
      }
    },
    {
      "cell_type": "markdown",
      "source": [
        "###Users with more than 200 ratings"
      ],
      "metadata": {
        "id": "5DC6ND0i3x7V"
      }
    },
    {
      "cell_type": "code",
      "source": [
        "List_Criteria_A = df_ratings.user.value_counts().loc[lambda x: x>=200]\n",
        "List_Criteria_A"
      ],
      "metadata": {
        "id": "jj52Y_BV0yDL"
      },
      "execution_count": null,
      "outputs": []
    },
    {
      "cell_type": "markdown",
      "source": [
        "###Books with more than 100 ratings"
      ],
      "metadata": {
        "id": "d6-Fq1bz36iN"
      }
    },
    {
      "cell_type": "code",
      "source": [
        "List_Criteria_B = df_ratings.isbn.value_counts().loc[lambda x: x>=100]\n",
        "List_Criteria_B"
      ],
      "metadata": {
        "id": "5TMxvVrA4XyD"
      },
      "execution_count": null,
      "outputs": []
    },
    {
      "cell_type": "markdown",
      "source": [
        "## Ratings > 0"
      ],
      "metadata": {
        "id": "81KADhhmmYjM"
      }
    },
    {
      "cell_type": "code",
      "source": [
        "List_Criteria_C = df_ratings.rating.loc[lambda x: x>0].index\n",
        "List_Criteria_C"
      ],
      "metadata": {
        "id": "574Vb8bklww_"
      },
      "execution_count": null,
      "outputs": []
    },
    {
      "cell_type": "markdown",
      "source": [
        "### DataFrame of books with more than 100 ratings > 0 from users with more than 200 ratings > 0 "
      ],
      "metadata": {
        "id": "5k1KN4i77CyZ"
      }
    },
    {
      "cell_type": "code",
      "source": [
        "df_worthy_ratings = df_ratings.loc[((df_ratings.user.isin(List_Criteria_A.index))\n",
        "                                    &(df_ratings.isbn.isin(List_Criteria_B.index))) \n",
        "                                    ].reset_index(drop = True)\n",
        "\n",
        "\n",
        "df_worthy_ratings"
      ],
      "metadata": {
        "id": "pRvPjvYe2YtS"
      },
      "execution_count": null,
      "outputs": []
    },
    {
      "cell_type": "markdown",
      "source": [
        "Plotting rows per user and rows per isbn after cleaning"
      ],
      "metadata": {
        "id": "lWQgmBtf0kkq"
      }
    },
    {
      "cell_type": "code",
      "source": [
        "fig,axs = plt.subplots(1,2,figsize = (10,5))\n",
        "axs[0].set(xlabel = 'isbn')\n",
        "df_worthy_ratings.isbn.value_counts().plot(use_index = False, xticks = [], ylabel = 'rows', ax = axs[0])\n",
        "axs[1].set(xlabel = 'user')\n",
        "df_worthy_ratings.user.value_counts().plot(use_index = False, xticks = [], ax = axs[1])"
      ],
      "metadata": {
        "id": "qsyDEwjKpsTG"
      },
      "execution_count": null,
      "outputs": []
    },
    {
      "cell_type": "markdown",
      "source": [
        "Join Both DataFrames in order to get the book´s titles for each rating"
      ],
      "metadata": {
        "id": "_0XHaFmTpsvz"
      }
    },
    {
      "cell_type": "code",
      "source": [
        "#df_worthy_ratings_with_titles = pd.merge(df_worthy_ratings, df_books, on = 'isbn', how=\"inner\",indicator=True)\n",
        "df_worthy_ratings_with_titles = pd.merge(df_worthy_ratings, df_books, on = 'isbn', how=\"inner\")\n",
        "df_worthy_ratings_with_titles\n"
      ],
      "metadata": {
        "id": "qBBW6OuZp3LF"
      },
      "execution_count": null,
      "outputs": []
    },
    {
      "cell_type": "markdown",
      "source": [
        "###Removing duplicating ratings from the same user for the same book, keeping just the first. "
      ],
      "metadata": {
        "id": "ZFibKIqcQU54"
      }
    },
    {
      "cell_type": "code",
      "source": [
        "df_books_ratings = df_worthy_ratings_with_titles.drop_duplicates(['title','user'], keep=\"first\")\n",
        "df_books_ratings"
      ],
      "metadata": {
        "id": "Qa-q9j3ZQrgf"
      },
      "execution_count": null,
      "outputs": []
    },
    {
      "cell_type": "code",
      "source": [
        "# Convert to 2D matrıx\n",
        "books_with_ratings_pivot = df_books_ratings.pivot(index = 'title', columns = 'user', values = 'rating').fillna(0)\n",
        "books_with_ratings_pivot.head()"
      ],
      "metadata": {
        "id": "16K5I2BMs9u1"
      },
      "execution_count": null,
      "outputs": []
    },
    {
      "cell_type": "code",
      "source": [
        "books_with_ratings_matrix = csr_matrix(books_with_ratings_pivot.values)"
      ],
      "metadata": {
        "id": "m5YaMdREOkY1"
      },
      "execution_count": null,
      "outputs": []
    },
    {
      "cell_type": "code",
      "source": [
        "# Train Model\n",
        "#[‘cityblock’, ‘cosine’, ‘euclidean’, ‘l1’, ‘l2’, ‘manhattan’]\n",
        "model_knn = NearestNeighbors(algorithm='brute', metric='cosine')\n",
        "model_knn.fit(books_with_ratings_matrix)"
      ],
      "metadata": {
        "id": "vHFLqsfLPAMu"
      },
      "execution_count": null,
      "outputs": []
    },
    {
      "cell_type": "code",
      "execution_count": null,
      "metadata": {
        "id": "f5ZUd-L1SQz7"
      },
      "outputs": [],
      "source": [
        "# function to return recommended books - this will be tested\n",
        "def get_recommends(book = \"\"):\n",
        "  X = books_with_ratings_pivot[books_with_ratings_pivot.index == book]\n",
        "  X = X.to_numpy().reshape(1,-1)\n",
        "  distances, indices = model_knn.kneighbors(X,n_neighbors=5)\n",
        "  recommended_books = []\n",
        "  for i in range(0,len(distances.flatten())):\n",
        "    if i == 0:\n",
        "      recommended_books.append(books_with_ratings_pivot.index[indices.flatten()[0]])\n",
        "      recommended_books.append([])\n",
        "    else:\n",
        "      recommended_books[1].append([books_with_ratings_pivot.index[indices.flatten()[-i]], distances.flatten()[-i]])\n",
        "\n",
        "  return recommended_books"
      ]
    },
    {
      "cell_type": "markdown",
      "metadata": {
        "id": "eat9A2TKawHU"
      },
      "source": [
        "Use the cell below to test your function. The `test_book_recommendation()` function will inform you if you passed the challenge or need to keep trying."
      ]
    },
    {
      "cell_type": "code",
      "execution_count": null,
      "metadata": {
        "id": "jd2SLCh8oxMh"
      },
      "outputs": [],
      "source": [
        "books = get_recommends(\"Where the Heart Is (Oprah's Book Club (Paperback))\")\n",
        "print(books)\n",
        "\n",
        "def test_book_recommendation():\n",
        "  test_pass = True\n",
        "  recommends = get_recommends(\"Where the Heart Is (Oprah's Book Club (Paperback))\")\n",
        "  if recommends[0] != \"Where the Heart Is (Oprah's Book Club (Paperback))\":\n",
        "    test_pass = False\n",
        "  recommended_books = [\"I'll Be Seeing You\", 'The Weight of Water', 'The Surgeon', 'I Know This Much Is True']\n",
        "  recommended_books_dist = [0.8, 0.77, 0.77, 0.77]\n",
        "  for i in range(2): \n",
        "    if recommends[1][i][0] not in recommended_books:\n",
        "      test_pass = False\n",
        "    if abs(recommends[1][i][1] - recommended_books_dist[i]) >= 0.05:\n",
        "      test_pass = False\n",
        "  if test_pass:\n",
        "    print(\"You passed the challenge! 🎉🎉🎉🎉🎉\")\n",
        "  else:\n",
        "    print(\"You haven't passed yet. Keep trying!\")\n",
        "\n",
        "test_book_recommendation()"
      ]
    }
  ],
  "metadata": {
    "colab": {
      "collapsed_sections": [],
      "provenance": [],
      "include_colab_link": true
    },
    "kernelspec": {
      "display_name": "Python 3",
      "language": "python",
      "name": "python3"
    },
    "language_info": {
      "codemirror_mode": {
        "name": "ipython",
        "version": 3
      },
      "file_extension": ".py",
      "mimetype": "text/x-python",
      "name": "python",
      "nbconvert_exporter": "python",
      "pygments_lexer": "ipython3",
      "version": "3.6.5"
    },
    "gpuClass": "standard"
  },
  "nbformat": 4,
  "nbformat_minor": 0
}